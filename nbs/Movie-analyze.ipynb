{
 "cells": [
  {
   "cell_type": "markdown",
   "metadata": {},
   "source": [
    "# MovieLens Analysis: Between Two Decades"
   ]
  },
  {
   "cell_type": "markdown",
   "metadata": {},
   "source": [
    "# 1. Import libraries"
   ]
  },
  {
   "cell_type": "code",
   "execution_count": 53,
   "metadata": {},
   "outputs": [],
   "source": [
    "from pyspark.sql import SparkSession\n",
    "from pyspark.sql.types import StructType, StructField, IntegerType, StringType, DoubleType\n",
    "from pyspark.sql.functions import regexp_extract\n",
    "from pyspark.sql.functions import col\n",
    "from pyspark.sql.functions import abs\n",
    "from pyspark.sql.functions import format_number\n",
    "import pandas as pd\n",
    "import matplotlib.pyplot as plt\n",
    "import numpy as np"
   ]
  },
  {
   "cell_type": "markdown",
   "metadata": {},
   "source": [
    "# 2. Load the database and present"
   ]
  },
  {
   "cell_type": "code",
   "execution_count": 54,
   "metadata": {},
   "outputs": [
    {
     "name": "stdout",
     "output_type": "stream",
     "text": [
      "+---------+---------------+-------+-------+--------------------+--------------------+\n",
      "|avgRating|     directedBy| imdbId|item_id|            starring|               title|\n",
      "+---------+---------------+-------+-------+--------------------+--------------------+\n",
      "|  3.89146|  John Lasseter|0114709|      1|Tim Allen, Tom Ha...|    Toy Story (1995)|\n",
      "|  3.26605|   Joe Johnston|0113497|      2|Jonathan Hyde, Br...|      Jumanji (1995)|\n",
      "|  3.17146|  Howard Deutch|0113228|      3|Jack Lemmon, Walt...|Grumpier Old Men ...|\n",
      "|  2.86824|Forest Whitaker|0114885|      4|Angela Bassett, L...|Waiting to Exhale...|\n",
      "|   3.0762|  Charles Shyer|0113041|      5|Steve Martin, Mar...|Father of the Bri...|\n",
      "+---------+---------------+-------+-------+--------------------+--------------------+\n",
      "only showing top 5 rows\n",
      "\n",
      "+-----+-------+\n",
      "|count|item_id|\n",
      "+-----+-------+\n",
      "|15507|      5|\n",
      "|33239|     10|\n",
      "| 1981|     13|\n",
      "|24607|     17|\n",
      "|25751|     21|\n",
      "+-----+-------+\n",
      "only showing top 5 rows\n",
      "\n",
      "+-------+---+------+\n",
      "|item_id|num|tag_id|\n",
      "+-------+---+------+\n",
      "|      1|  4| 86963|\n",
      "|      1|  1| 42940|\n",
      "|      1| 26| 37116|\n",
      "|      1|  1| 52206|\n",
      "|      1| 21| 34442|\n",
      "+-------+---+------+\n",
      "only showing top 5 rows\n",
      "\n",
      "+---+--------------+\n",
      "| id|           tag|\n",
      "+---+--------------+\n",
      "| 22|       aardman|\n",
      "|112|secret service|\n",
      "|167|    hillarious|\n",
      "|270|     christian|\n",
      "|362|         mummy|\n",
      "+---+--------------+\n",
      "only showing top 5 rows\n",
      "\n"
     ]
    }
   ],
   "source": [
    "spark = SparkSession.builder.appName(\"MovieAnalyze\").getOrCreate()\n",
    "\n",
    "movies_df = spark.read.json(\"hdfs://namenode:9000/individual/nbs/metadata_updated.json\")\n",
    "rating_count_df = spark.read.json(\"hdfs://namenode:9000/individual/nbs/rating_count.json\")\n",
    "tag_count_df = spark.read.json(\"hdfs://namenode:9000/individual/nbs/tag_count.json\")\n",
    "tags_df = spark.read.json(\"hdfs://namenode:9000/individual/nbs/tags.json\")\n",
    "\n",
    "movies_df.show(n=5)\n",
    "rating_count_df.show(n=5)\n",
    "tag_count_df.show(n=5)\n",
    "tags_df.show(n=5)"
   ]
  },
  {
   "cell_type": "markdown",
   "metadata": {},
   "source": [
    "# 3. Data preprocess"
   ]
  },
  {
   "cell_type": "code",
   "execution_count": 55,
   "metadata": {},
   "outputs": [
    {
     "name": "stdout",
     "output_type": "stream",
     "text": [
      "+-------+--------------------+----+---------+-----+\n",
      "|item_id|               title|year|avgRating|count|\n",
      "+-------+--------------------+----+---------+-----+\n",
      "|      1|    Toy Story (1995)|1995|  3.89146|68884|\n",
      "|      6|         Heat (1995)|1995|  3.85549|28956|\n",
      "|     11|American Presiden...|1995|  3.66058|19724|\n",
      "|     16|       Casino (1995)|1995|  3.82016|21392|\n",
      "|     17|Sense and Sensibi...|1995|  3.94589|24607|\n",
      "+-------+--------------------+----+---------+-----+\n",
      "only showing top 5 rows\n",
      "\n"
     ]
    }
   ],
   "source": [
    "#This database is very well-organized and does not contain noises and outliers.\n",
    "#But still the necesary process is needed.\n",
    "\n",
    "#Extract the needed integer attribute 'year' from the title. Drop unnecessary columns.\n",
    "movies_df = movies_df.withColumn(\"year\", regexp_extract(movies_df[\"title\"], r\"\\((\\d{4})\\)\", 1).cast(\"integer\"))\n",
    "movies_df = movies_df.select(\"title\", \"year\", \"avgRating\", \"item_id\")\n",
    "\n",
    "#Filter movies with more than 10 ratings to improve the data quality.\n",
    "solid_rated_movies_df = movies_df.join(rating_count_df, on=\"item_id\", how=\"left\").filter((col(\"count\") >= 10) | col(\"count\").isNull())\n",
    "#Filter movies above 3.5 out of 5 score as \"Good movies\"\n",
    "good_movies_df = solid_rated_movies_df.filter(movies_df[\"avgRating\"] > 3.5)\n",
    "\n",
    "good_movies_df.show(n=5)"
   ]
  },
  {
   "cell_type": "markdown",
   "metadata": {},
   "source": [
    "# 4. Filter the 2012-2021 decade movies"
   ]
  },
  {
   "cell_type": "code",
   "execution_count": 56,
   "metadata": {},
   "outputs": [
    {
     "name": "stdout",
     "output_type": "stream",
     "text": [
      "+--------------------+----+---------+-------+\n",
      "|               title|year|avgRating|item_id|\n",
      "+--------------------+----+---------+-------+\n",
      "|Avengers, The (2012)|2012|  3.76248|  89745|\n",
      "|Bullet to the Hea...|2012|   2.6864|  91483|\n",
      "|Expendables 2, Th...|2012|  2.95248|  91485|\n",
      "|The Hunger Games ...|2012|  3.51419|  91500|\n",
      "|Dark Knight Rises...|2012|  3.97472|  91529|\n",
      "+--------------------+----+---------+-------+\n",
      "only showing top 5 rows\n",
      "\n",
      "+-------+--------------------+----+---------+-----+\n",
      "|item_id|               title|year|avgRating|count|\n",
      "+-------+--------------------+----+---------+-----+\n",
      "|  89745|Avengers, The (2012)|2012|  3.76248|18247|\n",
      "|  91500|The Hunger Games ...|2012|  3.51419|14156|\n",
      "|  91529|Dark Knight Rises...|2012|  3.97472|20411|\n",
      "|  92420|    Chronicle (2012)|2012|  3.60015| 2730|\n",
      "|  92509|     Vow, The (2012)|2012|  3.57644| 1032|\n",
      "+-------+--------------------+----+---------+-----+\n",
      "only showing top 5 rows\n",
      "\n"
     ]
    }
   ],
   "source": [
    "recent_total_df = movies_df.filter((col(\"year\") >= 2012) & (col(\"year\") <= 2021))\n",
    "recent_total = recent_total_df.count()\n",
    "recent_total_df.show(n=5)\n",
    "\n",
    "recent_decade_df = good_movies_df.filter((col(\"year\") >= 2012) & (col(\"year\") <= 2021))\n",
    "recent_count = recent_decade_df.count()\n",
    "recent_decade_df.show(n=5)"
   ]
  },
  {
   "cell_type": "markdown",
   "metadata": {},
   "source": [
    "# 5. Filter the 2002-2011 decade movies and show significant numbers"
   ]
  },
  {
   "cell_type": "code",
   "execution_count": 57,
   "metadata": {},
   "outputs": [
    {
     "name": "stdout",
     "output_type": "stream",
     "text": [
      "+--------------------+----+---------+-------+\n",
      "|               title|year|avgRating|item_id|\n",
      "+--------------------+----+---------+-------+\n",
      "|Waking Up in Reno...|2002|  2.68072|   4746|\n",
      "|  Big Trouble (2002)|2002|  3.23464|   4774|\n",
      "|Orange County (2002)|2002|  3.08933|   5025|\n",
      "|     Impostor (2002)|2002|  3.16688|   5046|\n",
      "|Kung Pow: Enter t...|2002|   2.7881|   5047|\n",
      "+--------------------+----+---------+-------+\n",
      "only showing top 5 rows\n",
      "\n",
      "+-------+--------------------+----+---------+-----+\n",
      "|item_id|               title|year|avgRating|count|\n",
      "+-------+--------------------+----+---------+-----+\n",
      "|   5064|The Count of Mont...|2002|  3.79183| 6960|\n",
      "|   5152|We Were Soldiers ...|2002|   3.5721| 4380|\n",
      "|   5218|      Ice Age (2002)|2002|  3.53431|19582|\n",
      "|   5329|Salton Sea, The (...|2002|  3.57527| 1158|\n",
      "|   5377|  About a Boy (2002)|2002|  3.63151|11950|\n",
      "+-------+--------------------+----+---------+-----+\n",
      "only showing top 5 rows\n",
      "\n",
      "Total movies for 2012-2021: 26695\n",
      "Total movies for 2002-2011: 18322\n",
      "Good movies for 2012-2021: 2360\n",
      "Good movies for 2002-2011: 2239\n"
     ]
    }
   ],
   "source": [
    "far_total_df = movies_df.filter((col(\"year\") >= 2002) & (col(\"year\") <= 2011))\n",
    "far_total = far_total_df.count()\n",
    "far_total_df.show(n=5)\n",
    "\n",
    "far_decade_df = good_movies_df.filter((col(\"year\") >= 2002) & (col(\"year\") <= 2011))\n",
    "far_count = far_decade_df.count()\n",
    "far_decade_df.show(n=5)\n",
    "\n",
    "print(\"Total movies for 2012-2021: \" + str(recent_total) + \n",
    "      \"\\nTotal movies for 2002-2011: \" + str(far_total) + \n",
    "      \"\\nGood movies for 2012-2021: \" + str(recent_count) + \n",
    "      \"\\nGood movies for 2002-2011: \" + str(far_count))"
   ]
  },
  {
   "cell_type": "markdown",
   "metadata": {},
   "source": [
    "# 6. Visualize the good movie percentage for 2012-2021"
   ]
  },
  {
   "cell_type": "code",
   "execution_count": 58,
   "metadata": {},
   "outputs": [
    {
     "data": {
      "image/png": "[encoded data removed]",
      "text/plain": [
       "<Figure size 720x360 with 1 Axes>"
      ]
     },
     "metadata": {},
     "output_type": "display_data"
    }
   ],
   "source": [
    "recent_good_percent = recent_count / recent_total\n",
    "recent_bad_percent = 1 - recent_good_percent\n",
    "\n",
    "labels = ['Good movies', 'Not so good']\n",
    "sizes = [recent_good_percent, recent_bad_percent]\n",
    "\n",
    "plt.figure(figsize=(10, 5))\n",
    "plt.pie(sizes, labels=labels, autopct='%1.1f%%')\n",
    "plt.title('2012-2021 Rating')\n",
    "plt.axis('equal')\n",
    "\n",
    "plt.show()"
   ]
  },
  {
   "cell_type": "markdown",
   "metadata": {},
   "source": [
    "# 7. Visualize the good movie percentage for 2002-2011"
   ]
  },
  {
   "cell_type": "code",
   "execution_count": 59,
   "metadata": {},
   "outputs": [
    {
     "data": {
      "image/png": "[encoded data removed]",
      "text/plain": [
       "<Figure size 720x360 with 1 Axes>"
      ]
     },
     "metadata": {},
     "output_type": "display_data"
    }
   ],
   "source": [
    "far_good_percent = far_count / far_total\n",
    "far_bad_percent = 1 - far_good_percent\n",
    "\n",
    "labels = ['Good movies', 'Not so good']\n",
    "sizes = [far_good_percent, far_bad_percent]\n",
    "\n",
    "plt.figure(figsize=(10, 5))\n",
    "plt.pie(sizes, labels=labels, autopct='%1.1f%%')\n",
    "plt.title('2002-2011 Rating')\n",
    "plt.axis('equal')\n",
    "\n",
    "plt.show()"
   ]
  },
  {
   "cell_type": "markdown",
   "metadata": {},
   "source": [
    "# 8. Calculate the most common tags in 2012-2021 total movies"
   ]
  },
  {
   "cell_type": "code",
   "execution_count": 60,
   "metadata": {},
   "outputs": [
    {
     "name": "stdout",
     "output_type": "stream",
     "text": [
      "+---------------+-----+\n",
      "|            tag|count|\n",
      "+---------------+-----+\n",
      "|          drama|  668|\n",
      "|         comedy|  612|\n",
      "|         murder|  558|\n",
      "|    documentary|  526|\n",
      "|         family|  511|\n",
      "|        romance|  474|\n",
      "|     friendship|  430|\n",
      "|         action|  430|\n",
      "|          funny|  420|\n",
      "|         boring|  400|\n",
      "|      biography|  398|\n",
      "|       violence|  385|\n",
      "|         horror|  366|\n",
      "|           love|  361|\n",
      "|        revenge|  346|\n",
      "|          crime|  327|\n",
      "|stand-up comedy|  323|\n",
      "|       thriller|  318|\n",
      "|          music|  307|\n",
      "|    predictable|  306|\n",
      "+---------------+-----+\n",
      "only showing top 20 rows\n",
      "\n"
     ]
    }
   ],
   "source": [
    "recent_total_tags = recent_total_df.join(tag_count_df, \"item_id\")\n",
    "recent_total_counts = recent_total_tags.groupBy(\"tag_id\").count()\n",
    "\n",
    "recent_total_counts = recent_total_counts.join(tags_df, recent_total_counts[\"tag_id\"] == tags_df[\"id\"])\n",
    "recent_total_counts = recent_total_counts.sort(col(\"count\").desc())\n",
    "\n",
    "recent_total_counts.select(\"tag\", \"count\").show()"
   ]
  },
  {
   "cell_type": "markdown",
   "metadata": {},
   "source": [
    "# 9. Calculate the most common tags in 2012-2021 high rating movies"
   ]
  },
  {
   "cell_type": "code",
   "execution_count": 61,
   "metadata": {},
   "outputs": [
    {
     "name": "stdout",
     "output_type": "stream",
     "text": [
      "+------+--------------------+-----+-------+\n",
      "|tag_id|                 tag|count|percent|\n",
      "+------+--------------------+-----+-------+\n",
      "| 86247|               drama|  269|11.3983|\n",
      "| 94577|         documentary|  193| 8.1780|\n",
      "| 90720|              family|  162| 6.8644|\n",
      "| 37108|              comedy|  145| 6.1441|\n",
      "| 58352|              boring|  142| 6.0169|\n",
      "| 35012|             romance|  136| 5.7627|\n",
      "| 10736|          friendship|  135| 5.7203|\n",
      "| 60591|               funny|  133| 5.6356|\n",
      "|101162|           biography|  125| 5.2966|\n",
      "| 78736|      cinematography|  121| 5.1271|\n",
      "| 63379|based on a true s...|  118| 5.0000|\n",
      "| 58846|                love|  117| 4.9576|\n",
      "| 71336|            violence|  113| 4.7881|\n",
      "| 42940|              action|  111| 4.7034|\n",
      "|  6528|               music|  110| 4.6610|\n",
      "| 66794|              murder|  108| 4.5763|\n",
      "|  9953|       coming of age|  107| 4.5339|\n",
      "|  3175|               death|   99| 4.1949|\n",
      "|  4557|         predictable|   97| 4.1102|\n",
      "| 65332|               crime|   95| 4.0254|\n",
      "+------+--------------------+-----+-------+\n",
      "only showing top 20 rows\n",
      "\n"
     ]
    }
   ],
   "source": [
    "recent_decade_tags = recent_decade_df.join(tag_count_df, \"item_id\")\n",
    "recent_tag_counts = recent_decade_tags.groupBy(\"tag_id\").count()\n",
    "\n",
    "recent_tag_counts = recent_tag_counts.join(tags_df, recent_tag_counts[\"tag_id\"] == tags_df[\"id\"])\n",
    "recent_tag_counts = recent_tag_counts.withColumn(\"percent\", format_number((recent_tag_counts[\"count\"] / recent_count) * 100, 4))\n",
    "recent_tag_counts = recent_tag_counts.sort(col(\"count\").desc())\n",
    "\n",
    "recent_tag_counts.select(\"tag_id\", \"tag\", \"count\", \"percent\").show()\n"
   ]
  },
  {
   "cell_type": "markdown",
   "metadata": {},
   "source": [
    "# 10. Calculate the most common tags in 2012-2021 total movies"
   ]
  },
  {
   "cell_type": "code",
   "execution_count": 62,
   "metadata": {},
   "outputs": [
    {
     "name": "stdout",
     "output_type": "stream",
     "text": [
      "+----------------+-----+\n",
      "|             tag|count|\n",
      "+----------------+-----+\n",
      "|independent film|  962|\n",
      "|nudity (topless)|  657|\n",
      "|          comedy|  605|\n",
      "|          murder|  559|\n",
      "|         romance|  513|\n",
      "|           funny|  497|\n",
      "|           drama|  457|\n",
      "| based on a book|  456|\n",
      "|        violence|  438|\n",
      "|          boring|  434|\n",
      "|            love|  387|\n",
      "|      friendship|  382|\n",
      "|          action|  372|\n",
      "|     documentary|  353|\n",
      "|             sex|  326|\n",
      "|         revenge|  323|\n",
      "|          family|  318|\n",
      "|           music|  313|\n",
      "|     predictable|  310|\n",
      "|           drugs|  307|\n",
      "+----------------+-----+\n",
      "only showing top 20 rows\n",
      "\n"
     ]
    }
   ],
   "source": [
    "far_total_tags = far_total_df.join(tag_count_df, \"item_id\")\n",
    "far_total_counts = far_total_tags.groupBy(\"tag_id\").count()\n",
    "\n",
    "far_total_counts = far_total_counts.join(tags_df, far_total_counts[\"tag_id\"] == tags_df[\"id\"])\n",
    "far_total_counts = far_total_counts.sort(col(\"count\").desc())\n",
    "\n",
    "far_total_counts.select(\"tag\", \"count\").show()"
   ]
  },
  {
   "cell_type": "markdown",
   "metadata": {},
   "source": [
    "# 11. Calculate the most common tags in 2002-2011 high rating movies"
   ]
  },
  {
   "cell_type": "code",
   "execution_count": 63,
   "metadata": {},
   "outputs": [
    {
     "name": "stdout",
     "output_type": "stream",
     "text": [
      "+------+-----------------+-----+-------+\n",
      "|tag_id|              tag|count|percent|\n",
      "+------+-----------------+-----+-------+\n",
      "| 86247|            drama|  199| 8.8879|\n",
      "| 21285|  based on a book|  183| 8.1733|\n",
      "| 58352|           boring|  181| 8.0840|\n",
      "| 35012|          romance|  173| 7.7267|\n",
      "| 11329| independent film|  172| 7.6820|\n",
      "| 94577|      documentary|  167| 7.4587|\n",
      "| 60591|            funny|  166| 7.4140|\n",
      "| 66794|           murder|  159| 7.1014|\n",
      "| 37108|           comedy|  149| 6.6548|\n",
      "| 71336|         violence|  148| 6.6101|\n",
      "| 10736|       friendship|  148| 6.6101|\n",
      "|  6528|            music|  145| 6.4761|\n",
      "| 58846|             love|  138| 6.1635|\n",
      "| 78736|   cinematography|  132| 5.8955|\n",
      "| 25514| nudity (topless)|  131| 5.8508|\n",
      "| 87183|             slow|  123| 5.4935|\n",
      "| 90720|           family|  108| 4.8236|\n",
      "| 86819|         politics|  108| 4.8236|\n",
      "| 78672|social commentary|  103| 4.6003|\n",
      "|  7923|      atmospheric|  103| 4.6003|\n",
      "+------+-----------------+-----+-------+\n",
      "only showing top 20 rows\n",
      "\n"
     ]
    }
   ],
   "source": [
    "far_decade_tags = far_decade_df.join(tag_count_df, \"item_id\")\n",
    "far_tag_counts = far_decade_tags.groupBy(\"tag_id\").count()\n",
    "\n",
    "far_tag_counts = far_tag_counts.join(tags_df, far_tag_counts[\"tag_id\"] == tags_df[\"id\"])\n",
    "far_tag_counts = far_tag_counts.withColumn(\"percent\", format_number((far_tag_counts[\"count\"] / far_count) * 100, 4))\n",
    "far_tag_counts = far_tag_counts.sort(col(\"count\").desc())\n",
    "\n",
    "far_tag_counts.select(\"tag_id\", \"tag\", \"count\", \"percent\").show()"
   ]
  },
  {
   "cell_type": "markdown",
   "metadata": {},
   "source": [
    "# 12. Visualize most common tags in 2012-2021 for high ratings"
   ]
  },
  {
   "cell_type": "code",
   "execution_count": 64,
   "metadata": {},
   "outputs": [
    {
     "data": {
      "image/png": "[encoded data removed]",
      "text/plain": [
       "<Figure size 864x432 with 1 Axes>"
      ]
     },
     "metadata": {
      "needs_background": "light"
     },
     "output_type": "display_data"
    }
   ],
   "source": [
    "#Remove repetitive or low-value tags\n",
    "recent_top_10_tags = recent_tag_counts.filter(~recent_tag_counts[\"tag_id\"].isin([58352, 60591, 58846, 3175, 4557])).limit(10)\n",
    "\n",
    "recent_tag_names = recent_top_10_tags.select(\"tag\").rdd.map(lambda x: x[0]).collect()\n",
    "recent_tag_nums = recent_top_10_tags.select(\"count\").rdd.map(lambda x: x[0]).collect()\n",
    "\n",
    "plt.figure(figsize=(12, 6))\n",
    "plt.barh(recent_tag_names, recent_tag_nums)\n",
    "plt.title('Most Common Tags for High Rating Movies in 2012-2021')\n",
    "plt.gca().invert_yaxis()\n",
    "plt.show()"
   ]
  },
  {
   "cell_type": "markdown",
   "metadata": {},
   "source": [
    "# 13. Visualize most common tags in 2002-2011"
   ]
  },
  {
   "cell_type": "code",
   "execution_count": 65,
   "metadata": {},
   "outputs": [
    {
     "data": {
      "image/png": "[encoded data removed]",
      "text/plain": [
       "<Figure size 864x432 with 1 Axes>"
      ]
     },
     "metadata": {
      "needs_background": "light"
     },
     "output_type": "display_data"
    }
   ],
   "source": [
    "#Remove repetitive or low-value tags\n",
    "far_top_10_tags = far_tag_counts.filter(~far_tag_counts[\"tag_id\"].isin([58352, 37108, 58846, 25514, 18966])).limit(10)\n",
    "\n",
    "far_tag_names = far_top_10_tags.select(\"tag\").rdd.map(lambda x: x[0]).collect()\n",
    "far_tag_nums = far_top_10_tags.select(\"count\").rdd.map(lambda x: x[0]).collect()\n",
    "\n",
    "plt.figure(figsize=(12, 6))\n",
    "plt.barh(far_tag_names, far_tag_nums)\n",
    "plt.title('Most Common Tags for High Rating Movies in 2002-2011')\n",
    "plt.gca().invert_yaxis()\n",
    "plt.show()"
   ]
  },
  {
   "cell_type": "markdown",
   "metadata": {},
   "source": [
    "# 14. Calculate the tag percent changes for two decades. Display most increased tags."
   ]
  },
  {
   "cell_type": "code",
   "execution_count": 66,
   "metadata": {},
   "outputs": [
    {
     "name": "stdout",
     "output_type": "stream",
     "text": [
      "+-------------+--------------------+--------------+-----------+--------------+\n",
      "|tag_id_recent|          tag_recent|percent_recent|percent_far|percent_change|\n",
      "+-------------+--------------------+--------------+-----------+--------------+\n",
      "|        86247|               drama|       11.3983|     8.8879|        2.5104|\n",
      "|        90720|              family|        6.8644|     4.8236|        2.0408|\n",
      "|        11539|father daughter r...|        2.7966|     1.5632|        1.2334|\n",
      "|       101162|           biography|        5.2966|     4.1983|        1.0983|\n",
      "|       108793|            teenager|        2.2034|     1.1166|        1.0868|\n",
      "|        24018|          plot twist|        1.9915|     1.0272|        0.9643|\n",
      "|        92456|mother daughter r...|        2.2034|     1.2506|        0.9528|\n",
      "|       104610|           superhero|        1.7373|     0.8486|        0.8887|\n",
      "|         9530|              marvel|        0.9746|     0.1787|        0.7959|\n",
      "|        94577|         documentary|        8.1780|     7.4587|        0.7193|\n",
      "|        99690|      based on comic|        1.4407|     0.7593|        0.6814|\n",
      "|         8820|              racism|        2.7119|     2.0545|        0.6574|\n",
      "|        91846|               oscar|        1.2712|     0.6699|        0.6013|\n",
      "|        16788|              sci-fi|        3.4322|     2.8584|        0.5738|\n",
      "|        29082|                 dog|        2.4153|     1.8758|        0.5395|\n",
      "|       101210|             courage|        0.8051|     0.2680|        0.5371|\n",
      "|        70158|               blood|        2.5847|     2.0992|        0.4855|\n",
      "|        26615|              sequel|        1.8220|     1.3399|        0.4821|\n",
      "|        70943|             mystery|        2.8390|     2.4118|        0.4272|\n",
      "|       100438|              artist|        1.2288|     0.8039|        0.4249|\n",
      "+-------------+--------------------+--------------+-----------+--------------+\n",
      "only showing top 20 rows\n",
      "\n"
     ]
    }
   ],
   "source": [
    "recent_tag_counts_tojoin = recent_tag_counts.withColumnRenamed(\"tag_id\", \"tag_id_recent\") \\\n",
    "    .withColumnRenamed(\"count\", \"count_recent\") \\\n",
    "    .withColumnRenamed(\"id\", \"id_recent\") \\\n",
    "    .withColumnRenamed(\"tag\", \"tag_recent\") \\\n",
    "    .withColumnRenamed(\"percent\", \"percent_recent\")\n",
    "\n",
    "far_tag_counts_tojoin = far_tag_counts.withColumnRenamed(\"tag_id\", \"tag_id_far\") \\\n",
    "    .withColumnRenamed(\"count\", \"count_far\") \\\n",
    "    .withColumnRenamed(\"id\", \"id_far\") \\\n",
    "    .withColumnRenamed(\"tag\", \"tag_far\") \\\n",
    "    .withColumnRenamed(\"percent\", \"percent_far\")\n",
    "\n",
    "tag_percent_change = recent_tag_counts_tojoin.join(far_tag_counts_tojoin, \n",
    "                                            recent_tag_counts_tojoin[\"tag_id_recent\"] == far_tag_counts_tojoin[\"tag_id_far\"], how=\"inner\")\n",
    "tag_percent_change = tag_percent_change.withColumn(\"percent_change\", \n",
    "                                                   tag_percent_change[\"percent_recent\"] - tag_percent_change[\"percent_far\"])\n",
    "tag_percent_change = tag_percent_change.withColumn(\"percent_change\", format_number(tag_percent_change[\"percent_change\"], 4))\n",
    "\n",
    "tag_percent_change = tag_percent_change.withColumn(\"percent_change\", tag_percent_change[\"percent_change\"].cast(DoubleType()))\n",
    "\n",
    "top_increase = tag_percent_change.sort(col(\"percent_change\").desc())\n",
    "top_increase.select(\"tag_id_recent\", \"tag_recent\", \"percent_recent\", \"percent_far\", \"percent_change\").show()\n",
    "\n"
   ]
  },
  {
   "cell_type": "markdown",
   "metadata": {},
   "source": [
    "# 15. Display most decreased tags"
   ]
  },
  {
   "cell_type": "code",
   "execution_count": 67,
   "metadata": {},
   "outputs": [
    {
     "name": "stdout",
     "output_type": "stream",
     "text": [
      "+-------------+-----------------+--------------+-----------+--------------+\n",
      "|tag_id_recent|       tag_recent|percent_recent|percent_far|percent_change|\n",
      "+-------------+-----------------+--------------+-----------+--------------+\n",
      "|        11329| independent film|        0.9746|     7.6820|        6.7074|\n",
      "|        25514| nudity (topless)|        1.5254|     5.8508|        4.3254|\n",
      "|        21285|  based on a book|        3.8983|     8.1733|         4.275|\n",
      "|        60807|adapted from:book|        0.7203|     4.2430|        3.5227|\n",
      "|        66794|           murder|        4.5763|     7.1014|        2.5251|\n",
      "|        52344|           quirky|        2.0339|     4.4663|        2.4324|\n",
      "|        63677|     imdb top 250|        1.0593|     3.4390|        2.3797|\n",
      "|        87183|             slow|        3.2627|     5.4935|        2.2308|\n",
      "|        61398|         stylized|        1.5678|     3.7963|        2.2285|\n",
      "|        18699|        overrated|        2.5000|     4.6003|        2.1003|\n",
      "|        58352|           boring|        6.0169|     8.0840|        2.0671|\n",
      "|        95962|        cult film|        0.4661|     2.5011|         2.035|\n",
      "|        35012|          romance|        5.7627|     7.7267|         1.964|\n",
      "|        50409|          foreign|        2.1186|     4.0197|        1.9011|\n",
      "|        71336|         violence|        4.7881|     6.6101|         1.822|\n",
      "|         6528|            music|        4.6610|     6.4761|        1.8151|\n",
      "|        43819|             dark|        2.4153|     4.1983|         1.783|\n",
      "|        60591|            funny|        5.6356|     7.4140|        1.7784|\n",
      "|        34763|       disturbing|        1.6949|     3.4390|        1.7441|\n",
      "|        59722|         business|        0.6356|     2.2778|        1.6422|\n",
      "+-------------+-----------------+--------------+-----------+--------------+\n",
      "only showing top 20 rows\n",
      "\n"
     ]
    }
   ],
   "source": [
    "tag_percent_decrease = tag_percent_change.withColumn(\"percent_change\", -tag_percent_change[\"percent_change\"])\n",
    "top_decrease = tag_percent_decrease.sort(col(\"percent_change\").desc())\n",
    "\n",
    "top_decrease.select(\"tag_id_recent\", \"tag_recent\", \"percent_recent\", \"percent_far\", \"percent_change\").show()"
   ]
  },
  {
   "cell_type": "markdown",
   "metadata": {},
   "source": [
    "# 16. Visualize tag increased"
   ]
  },
  {
   "cell_type": "code",
   "execution_count": 68,
   "metadata": {
    "scrolled": true
   },
   "outputs": [
    {
     "data": {
      "image/png": "[encoded data removed]",
      "text/plain": [
       "<Figure size 864x432 with 1 Axes>"
      ]
     },
     "metadata": {
      "needs_background": "light"
     },
     "output_type": "display_data"
    }
   ],
   "source": [
    "filtered_top_increase = top_increase.filter(~top_increase[\"tag_id_recent\"].isin([11539, 92456])).limit(10)\n",
    "\n",
    "increased_tag_names = filtered_top_increase.select(\"tag_recent\").rdd.map(lambda x: x[0]).collect()\n",
    "increased_percent = filtered_top_increase.select(\"percent_change\").rdd.map(lambda x: x[0]).collect()\n",
    "\n",
    "plt.figure(figsize=(12, 6))\n",
    "plt.barh(increased_tag_names, increased_percent)\n",
    "plt.title('Top 10 Increased Tags')\n",
    "plt.xlabel('Percent')\n",
    "plt.gca().invert_yaxis()\n",
    "\n",
    "plt.show()"
   ]
  },
  {
   "cell_type": "markdown",
   "metadata": {},
   "source": [
    "# 17. Visualize tags decreased"
   ]
  },
  {
   "cell_type": "code",
   "execution_count": 69,
   "metadata": {},
   "outputs": [
    {
     "data": {
      "image/png": "[encoded data removed]",
      "text/plain": [
       "<Figure size 864x432 with 1 Axes>"
      ]
     },
     "metadata": {
      "needs_background": "light"
     },
     "output_type": "display_data"
    }
   ],
   "source": [
    "filtered_top_decrease = top_decrease.filter(~top_increase[\"tag_id_recent\"].isin([25514, 92456, 60807, 63677, 18699, 58352])).limit(10)\n",
    "\n",
    "decreased_tag_names = filtered_top_decrease.select(\"tag_recent\").rdd.map(lambda x: x[0]).collect()\n",
    "decreased_percent = filtered_top_decrease.select(\"percent_change\").rdd.map(lambda x: x[0]).collect()\n",
    "\n",
    "plt.figure(figsize=(12, 6))\n",
    "plt.barh(decreased_tag_names, decreased_percent)\n",
    "plt.title('Top 10 Decreased Tags')\n",
    "plt.xlabel('Percentage')\n",
    "plt.gca().invert_yaxis()\n",
    "\n",
    "plt.show()"
   ]
  },
  {
   "cell_type": "markdown",
   "metadata": {},
   "source": [
    "# 18. Special analysis: Comic-Adaptations"
   ]
  },
  {
   "cell_type": "code",
   "execution_count": 70,
   "metadata": {},
   "outputs": [
    {
     "name": "stdout",
     "output_type": "stream",
     "text": [
      "+--------------+-----------+----------+-------+\n",
      "|           tag|total_count|good_count|percent|\n",
      "+--------------+-----------+----------+-------+\n",
      "|based on comic|        108|        34|  31.48|\n",
      "|     superhero|        131|        41|  31.30|\n",
      "|        marvel|         44|        23|  52.27|\n",
      "+--------------+-----------+----------+-------+\n",
      "\n"
     ]
    }
   ],
   "source": [
    "recent_total_counts_tojoin = recent_total_counts.withColumnRenamed(\"count\", \"total_count\")\n",
    "recent_tag_counts_tojoin = recent_tag_counts.withColumnRenamed(\"count\", \"good_count\").withColumnRenamed(\"tag\", \"tag_recent\")\n",
    "\n",
    "recent_combine_counts = recent_total_counts_tojoin.join(recent_tag_counts_tojoin, \n",
    "                                                        recent_total_counts_tojoin[\"tag\"] == recent_tag_counts_tojoin[\"tag_recent\"])\n",
    "\n",
    "comic_tags = [\"superhero\", \"marvel\", \"based on comic\"]\n",
    "recent_comic_counts = recent_combine_counts.filter(recent_combine_counts[\"tag\"].isin(comic_tags))\n",
    "\n",
    "recent_comic_counts = recent_comic_counts.withColumn(\"percent\", (col(\"good_count\") / col(\"total_count\")) * 100)\n",
    "recent_comic_counts = recent_comic_counts.withColumn(\"percent\", format_number(col(\"percent\"), 2))\n",
    "\n",
    "recent_comic_counts.select(\"tag\", \"total_count\", \"good_count\", \"percent\").show()"
   ]
  },
  {
   "cell_type": "code",
   "execution_count": 71,
   "metadata": {},
   "outputs": [
    {
     "name": "stdout",
     "output_type": "stream",
     "text": [
      "+--------------+-----------+----------+-------+\n",
      "|           tag|total_count|good_count|percent|\n",
      "+--------------+-----------+----------+-------+\n",
      "|based on comic|         70|        17|  24.29|\n",
      "|     superhero|        108|        19|  17.59|\n",
      "|        marvel|         25|         4|  16.00|\n",
      "+--------------+-----------+----------+-------+\n",
      "\n"
     ]
    }
   ],
   "source": [
    "far_total_counts_tojoin = far_total_counts.withColumnRenamed(\"count\", \"total_count\")\n",
    "far_tag_counts_tojoin = far_tag_counts.withColumnRenamed(\"count\", \"good_count\").withColumnRenamed(\"tag\", \"tag_far\")\n",
    "\n",
    "far_combine_counts = far_total_counts_tojoin.join(far_tag_counts_tojoin, \n",
    "                                                        far_total_counts_tojoin[\"tag\"] == far_tag_counts_tojoin[\"tag_far\"])\n",
    "\n",
    "far_comic_counts = far_combine_counts.filter(far_combine_counts[\"tag\"].isin(comic_tags))\n",
    "\n",
    "far_comic_counts = far_comic_counts.withColumn(\"percent\", (col(\"good_count\") / col(\"total_count\")) * 100)\n",
    "far_comic_counts = far_comic_counts.withColumn(\"percent\", format_number(col(\"percent\"), 2))\n",
    "\n",
    "far_comic_counts.select(\"tag\", \"total_count\", \"good_count\", \"percent\").show()"
   ]
  },
  {
   "cell_type": "code",
   "execution_count": 72,
   "metadata": {},
   "outputs": [
    {
     "data": {
      "image/png": "[encoded data removed]",
      "text/plain": [
       "<Figure size 720x432 with 1 Axes>"
      ]
     },
     "metadata": {
      "needs_background": "light"
     },
     "output_type": "display_data"
    }
   ],
   "source": [
    "recent_comic_counts_pd = recent_comic_counts.toPandas()\n",
    "far_comic_counts_pd = far_comic_counts.toPandas()\n",
    "\n",
    "plt.figure(figsize=(10, 6))\n",
    "comic_tags = [\"superhero\", \"marvel\", \"based on comic\"]\n",
    "\n",
    "for tag in comic_tags:\n",
    "    plt.plot(['2002-2011', '2012-2021'], \n",
    "             [float(far_comic_counts_pd[far_comic_counts_pd['tag'] == tag]['percent'].values[0]), \n",
    "              float(recent_comic_counts_pd[recent_comic_counts_pd['tag'] == tag]['percent'].values[0])], \n",
    "             label=tag)\n",
    "\n",
    "plt.title('High Rating Percent Changes For Comic Movies')\n",
    "plt.xlabel('Period')\n",
    "plt.ylabel('High Rating Percent')\n",
    "\n",
    "plt.legend()\n",
    "\n",
    "plt.show()"
   ]
  },
  {
   "cell_type": "markdown",
   "metadata": {},
   "source": [
    "# 19. Special analysis: Violent Movies"
   ]
  },
  {
   "cell_type": "code",
   "execution_count": 73,
   "metadata": {},
   "outputs": [
    {
     "name": "stdout",
     "output_type": "stream",
     "text": [
      "+--------+-----------+----------+-------+\n",
      "|     tag|total_count|good_count|percent|\n",
      "+--------+-----------+----------+-------+\n",
      "|  murder|        558|       108|  19.35|\n",
      "|violence|        385|       113|  29.35|\n",
      "+--------+-----------+----------+-------+\n",
      "\n"
     ]
    }
   ],
   "source": [
    "violent_tags = [\"murder\", \"violence\"]\n",
    "recent_violent_counts = recent_combine_counts.filter(recent_combine_counts[\"tag\"].isin(violent_tags))\n",
    "\n",
    "recent_violent_counts = recent_violent_counts.withColumn(\"percent\", (col(\"good_count\") / col(\"total_count\")) * 100)\n",
    "recent_violent_counts = recent_violent_counts.withColumn(\"percent\", format_number(col(\"percent\"), 2))\n",
    "\n",
    "recent_violent_counts.select(\"tag\", \"total_count\", \"good_count\", \"percent\").show()"
   ]
  },
  {
   "cell_type": "code",
   "execution_count": 74,
   "metadata": {},
   "outputs": [
    {
     "name": "stdout",
     "output_type": "stream",
     "text": [
      "+--------+-----------+----------+-------+\n",
      "|     tag|total_count|good_count|percent|\n",
      "+--------+-----------+----------+-------+\n",
      "|  murder|        559|       159|  28.44|\n",
      "|violence|        438|       148|  33.79|\n",
      "+--------+-----------+----------+-------+\n",
      "\n"
     ]
    }
   ],
   "source": [
    "far_violent_counts = far_combine_counts.filter(far_combine_counts[\"tag\"].isin(violent_tags))\n",
    "\n",
    "far_violent_counts = far_violent_counts.withColumn(\"percent\", (col(\"good_count\") / col(\"total_count\")) * 100)\n",
    "far_violent_counts = far_violent_counts.withColumn(\"percent\", format_number(col(\"percent\"), 2))\n",
    "\n",
    "far_violent_counts.select(\"tag\", \"total_count\", \"good_count\", \"percent\").show()"
   ]
  },
  {
   "cell_type": "code",
   "execution_count": 75,
   "metadata": {},
   "outputs": [
    {
     "data": {
      "image/png": "[encoded data removed]",
      "text/plain": [
       "<Figure size 720x432 with 1 Axes>"
      ]
     },
     "metadata": {
      "needs_background": "light"
     },
     "output_type": "display_data"
    }
   ],
   "source": [
    "recent_violent_counts_pd = recent_violent_counts.toPandas()\n",
    "far_violent_counts_pd = far_violent_counts.toPandas()\n",
    "\n",
    "plt.figure(figsize=(10, 6))\n",
    "violent_tags = [\"murder\", \"violence\"]\n",
    "\n",
    "for tag in violent_tags:\n",
    "    plt.plot(['2002-2011', '2012-2021'], \n",
    "             [float(far_violent_counts_pd[far_violent_counts_pd['tag'] == tag]['percent'].values[0]), \n",
    "              float(recent_violent_counts_pd[recent_violent_counts_pd['tag'] == tag]['percent'].values[0])], \n",
    "             label=tag)\n",
    "\n",
    "plt.title('High Rating Percent Changes For Violent Movies')\n",
    "plt.xlabel('Period')\n",
    "plt.ylabel('High Rating Percent')\n",
    "\n",
    "plt.legend()\n",
    "\n",
    "plt.show()"
   ]
  },
  {
   "cell_type": "markdown",
   "metadata": {},
   "source": [
    "# Conclusion"
   ]
  },
  {
   "cell_type": "markdown",
   "metadata": {},
   "source": [
    "From data analysis above, there have been some changes in the audience's taste for movies. \n",
    "Family, teenager, and biographic genres are becoming more popular, and it's especially worth mentioning that comic adaptations, with the concept of the Marvel Universe, have seen a significant increase in the number of films and in audience acclaim over the past decade. Some of the genres that have seen less favorable reviews include violent crime films, romance, and novel adaptations. \n",
    "Hollywood may want to consider these kind of movies carefully when planning new productions."
   ]
  }
 ],
 "metadata": {
  "kernelspec": {
   "display_name": "Python 3",
   "language": "python",
   "name": "python3"
  },
  "language_info": {
   "codemirror_mode": {
    "name": "ipython",
    "version": 3
   },
   "file_extension": ".py",
   "mimetype": "text/x-python",
   "name": "python",
   "nbconvert_exporter": "python",
   "pygments_lexer": "ipython3",
   "version": "3.8.6"
  }
 },
 "nbformat": 4,
 "nbformat_minor": 4
}
